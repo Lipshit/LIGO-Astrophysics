{
  "nbformat": 4,
  "nbformat_minor": 0,
  "metadata": {
    "kernelspec": {
      "display_name": "Python 2",
      "language": "python",
      "name": "python2"
    },
    "language_info": {
      "codemirror_mode": {
        "name": "ipython",
        "version": 2
      },
      "file_extension": ".py",
      "mimetype": "text/x-python",
      "name": "python",
      "nbconvert_exporter": "python",
      "pygments_lexer": "ipython2",
      "version": "2.7.13"
    },
    "colab": {
      "name": "mass_dist.ipynb",
      "provenance": []
    }
  },
  "cells": [
    {
      "cell_type": "markdown",
      "metadata": {
        "id": "puc38D2eD6ak"
      },
      "source": [
        "# Distinguishing between different black hole mass distributions with GWs"
      ]
    },
    {
      "cell_type": "code",
      "metadata": {
        "collapsed": true,
        "id": "FArcWnrWD6ao"
      },
      "source": [
        "import numpy as np\n",
        "import matplotlib.pyplot as plt\n",
        "import random\n",
        "import math"
      ],
      "execution_count": null,
      "outputs": []
    },
    {
      "cell_type": "markdown",
      "metadata": {
        "id": "QH77n-bTD6aq"
      },
      "source": [
        "First we make some proposed chirp mass distributions. "
      ]
    },
    {
      "cell_type": "code",
      "metadata": {
        "collapsed": true,
        "id": "5H7AWiVLD6as"
      },
      "source": [
        "# number of points from each distribution\n",
        "N = 2000\n",
        "\n",
        "# get random chirp masses from different distributions\n",
        "# uniform distribution\n",
        "Mmin = 5.0\n",
        "Mmax = 50.0\n",
        "Mdist1 = np.random.uniform(Mmin,Mmax,N)\n",
        "\n",
        "# gaussian distribution\n",
        "mu = 25.0\n",
        "sigma = 7.0\n",
        "Mdist2 = np.zeros(N)\n",
        "for i in range(N):\n",
        "  Mdist2[i] = random.gauss(mu,sigma)\n"
      ],
      "execution_count": null,
      "outputs": []
    },
    {
      "cell_type": "code",
      "metadata": {
        "id": "RYMkXuW7D6at"
      },
      "source": [
        "# make hist of distributions to check \n",
        "\n",
        "plt.figure()\n",
        "plt.hist(Mdist1)\n",
        "plt.title('Model 1')\n",
        "plt.xlabel('Chirp mass')\n",
        "plt.ylabel('No. of signals')\n",
        "plt.show()\n",
        "\n",
        "plt.figure()\n",
        "plt.hist(Mdist2)\n",
        "plt.title('Model 2')\n",
        "plt.xlabel('Chirp mass')\n",
        "plt.ylabel('No. of signals')\n",
        "plt.show()"
      ],
      "execution_count": null,
      "outputs": []
    },
    {
      "cell_type": "markdown",
      "metadata": {
        "id": "ZQlvBeMhD6au"
      },
      "source": [
        "GW detectors don't measure the chirp mass exactly, so we need to add some uncertainty to the \n",
        "values from our chirp mass distributions. This is our \"predicted observed distributions\". We have to fix the number of histogram bins in our models and calculate the probability of a signal occuring in each bin. "
      ]
    },
    {
      "cell_type": "code",
      "metadata": {
        "collapsed": true,
        "id": "NixZeSMnD6av"
      },
      "source": [
        "# add an uncertainty to the chirp masses from the distributions\n",
        "\n",
        "Mdist1un = np.zeros(N)\n",
        "Mdist2un = np.zeros(N)\n",
        "for i in range(N):\n",
        "  Mdist1un[i] = random.gauss(Mdist1[i],Mdist1[i]*0.03)\n",
        "  Mdist2un[i] = random.gauss(Mdist2[i],Mdist2[i]*0.03)\n"
      ],
      "execution_count": null,
      "outputs": []
    },
    {
      "cell_type": "code",
      "metadata": {
        "id": "-X1hKUf9D6ax"
      },
      "source": [
        "# plot new chirp mass distributions with uncertainty added\n",
        "\n",
        "# number of bins\n",
        "b = np.linspace(5, 50, 11)\n",
        "\n",
        "# plot first mass distribution\n",
        "plt.figure()\n",
        "Mdist1bins, bins, patches = plt.hist(Mdist1un,b)\n",
        "plt.title('Model 1')\n",
        "plt.xlabel('Chirp mass')\n",
        "plt.ylabel('No. of signals')\n",
        "plt.show()\n",
        "\n",
        "# plot second mass distribution\n",
        "plt.figure()\n",
        "Mdist2bins, bins, patches = plt.hist(Mdist2un,b)\n",
        "plt.title('Model 2')\n",
        "plt.xlabel('Chirp mass')\n",
        "plt.ylabel('No. of signals')\n",
        "plt.show()\n",
        "\n",
        "# normalised number of chirp masses in each bin for each model. \n",
        "# this is the probability that an observed chirp mass would be in each histogram bin. \n",
        "pk1 = Mdist1bins / N\n",
        "pk2 = Mdist2bins / N\n",
        "\n"
      ],
      "execution_count": null,
      "outputs": []
    },
    {
      "cell_type": "markdown",
      "metadata": {
        "collapsed": true,
        "id": "5daFtJRyD6az"
      },
      "source": [
        "Now we have to select some values from one of our distributions to be our \"observations\"."
      ]
    },
    {
      "cell_type": "code",
      "metadata": {
        "id": "ycbKfQrCD6a1"
      },
      "source": [
        "# Number of observations \n",
        "nobs = 50\n",
        "\n",
        "# pick nobs values from the first chirp mass distribution\n",
        "observations = np.random.choice(Mdist1un,nobs)\n",
        "print('Observed chirp mass values {}'.format(observations))"
      ],
      "execution_count": null,
      "outputs": []
    },
    {
      "cell_type": "markdown",
      "metadata": {
        "id": "6KT9-xhkD6a2"
      },
      "source": [
        "Now we can calculate the probability of all of our observations coming from each distribution. \n",
        "We use a method based on Stevenson et al. 2015. The probability of obtaining the observed chirp masses given a distribution D and number of observed chirp masses n is given by $p(\\mathcal{M}|n,D) = n! \\prod_{k=1}^{b} \\frac{P_{k}^{x_{k}}}{x_{k}!}$, where b is the number of bins in a histogram of the observed chirp masses, k is each histogram bin, $P_{k}$ is the normalised probability of the model having a sample in bin k, $x_{k}$ is the number of observed chirp masses in each bin. Equation is logged before calculating the probability. "
      ]
    },
    {
      "cell_type": "code",
      "metadata": {
        "id": "2R4Qe4SoD6a2"
      },
      "source": [
        "# first need to make a histogram of the observed chirp masses\n",
        "\n",
        "xk, bins, patches = plt.hist(observations,b)\n",
        "plt.xlabel('Chirp mass')\n",
        "plt.ylabel('No. of observed')\n",
        "plt.show()\n"
      ],
      "execution_count": null,
      "outputs": []
    },
    {
      "cell_type": "markdown",
      "metadata": {
        "id": "skEVIqF_D6a3"
      },
      "source": [
        "The log Bayes factor will be positive if the observed chirp masses come from model 1 and negative if they come from model 2."
      ]
    },
    {
      "cell_type": "code",
      "metadata": {
        "id": "jeLYcckHD6a4"
      },
      "source": [
        "# calculate probability that chirp masses came from distribution 1\n",
        "temp = math.log(math.factorial(nobs)) \n",
        "temp2 = 0.0\n",
        "for i in range(len(b)-1):\n",
        "    temp2 += xk[i]*np.log(pk1[i])-math.log(math.factorial(xk[i]))\n",
        "probM1 = temp + temp2\n",
        "print('Model 1 probability {}'.format(probM1))\n",
        "\n",
        "# calculate the probability that chirp masses came from distribution 2\n",
        "temp = math.log(math.factorial(nobs))\n",
        "temp2 = 0.0\n",
        "for i in range(len(b)-1):\n",
        "    temp2 += xk[i]*np.log(pk2[i])-math.log(math.factorial(xk[i]))\n",
        "probM2 = temp + temp2\n",
        "print('Model 2 probability {}'.format(probM2))\n",
        "\n",
        "# calculate Bayes factor\n",
        "logB = probM1 - probM2\n",
        "print('log Bayes factor {}'.format(logB))\n"
      ],
      "execution_count": null,
      "outputs": []
    },
    {
      "cell_type": "code",
      "metadata": {
        "collapsed": true,
        "id": "7am3wNuWD6a4"
      },
      "source": [
        ""
      ],
      "execution_count": null,
      "outputs": []
    }
  ]
}